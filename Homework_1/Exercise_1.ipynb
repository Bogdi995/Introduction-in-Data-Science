{
 "cells": [
  {
   "cell_type": "markdown",
   "metadata": {},
   "source": [
    "1. (1p) A list of numbers is given. Show the difference between the sum of the 3 largest numbers and the product of the 2 smallest numbers.\n",
    "\n",
    "list = [10, 3, 5, 20, -4, 9, 1] -> 43\n",
    "\n",
    "list = [0, -1, -2, -3 , -4] -> -15"
   ]
  },
  {
   "cell_type": "code",
   "execution_count": 1,
   "metadata": {},
   "outputs": [
    {
     "name": "stdout",
     "output_type": "stream",
     "text": [
      "43\n"
     ]
    }
   ],
   "source": [
    "myList = [10, 3, 5, 20, -4, 9, 1]\n",
    "myList.sort()\n",
    "\n",
    "if len(myList) < 3:\n",
    "    print('The list must contain minimum 3 numbers')\n",
    "else:\n",
    "    print(myList[-1] + myList[-2] + myList[-3] - myList[0] * myList[1])"
   ]
  },
  {
   "cell_type": "code",
   "execution_count": null,
   "metadata": {},
   "outputs": [],
   "source": []
  }
 ],
 "metadata": {
  "kernelspec": {
   "display_name": "Python 3 (ipykernel)",
   "language": "python",
   "name": "python3"
  },
  "language_info": {
   "codemirror_mode": {
    "name": "ipython",
    "version": 3
   },
   "file_extension": ".py",
   "mimetype": "text/x-python",
   "name": "python",
   "nbconvert_exporter": "python",
   "pygments_lexer": "ipython3",
   "version": "3.11.4"
  }
 },
 "nbformat": 4,
 "nbformat_minor": 4
}
