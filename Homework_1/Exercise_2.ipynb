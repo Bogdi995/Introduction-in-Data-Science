{
 "cells": [
  {
   "cell_type": "markdown",
   "metadata": {},
   "source": [
    "2. (1p) A list of words is given. Determine the single words (no difference between lower and upper case) and how many times each occurs.\n",
    "\n",
    "Examples:\n",
    "\n",
    "['mouse', 'and', 'branza', 'viezure', 'viezure', 'viezure', 'me', 'slow', 'mouse', 'This', 'mouse', 'out', 'in', 'want', 'branza', 'song', 'barza', 'barza', 'barza', 'makes', 'to', 'in', 'branza', 'run', 'motion'] -> \n",
    "{'mouse': 3,\n",
    " 'and': 1,\n",
    " 'branza': 3,\n",
    " 'viezure': 3,\n",
    " 'me': 1,\n",
    " 'slow': 1,\n",
    " 'This': 1,\n",
    " 'out': 1,\n",
    " 'in': 2,\n",
    " 'want': 1,\n",
    " 'song': 1,\n",
    " 'barza': 3,\n",
    " 'makes': 1,\n",
    " 'to': 1,\n",
    " 'run': 1,\n",
    " 'motion': 1}\n",
    " \n",
    "['two', 'two', 'three', 'three', 'one'] ->\n",
    "{'two': 2, 'three': 2, 'one': 1}"
   ]
  },
  {
   "cell_type": "code",
   "execution_count": 4,
   "metadata": {},
   "outputs": [
    {
     "name": "stdout",
     "output_type": "stream",
     "text": [
      "Counter({'two': 2, 'three': 2, 'one': 1})\n"
     ]
    }
   ],
   "source": [
    "import collections\n",
    "\n",
    "words = ['two', 'two', 'three', 'Three', 'one']\n",
    "print (collections.Counter([x.lower() for x in words]))"
   ]
  },
  {
   "cell_type": "code",
   "execution_count": null,
   "metadata": {},
   "outputs": [],
   "source": []
  }
 ],
 "metadata": {
  "kernelspec": {
   "display_name": "Python 3 (ipykernel)",
   "language": "python",
   "name": "python3"
  },
  "language_info": {
   "codemirror_mode": {
    "name": "ipython",
    "version": 3
   },
   "file_extension": ".py",
   "mimetype": "text/x-python",
   "name": "python",
   "nbconvert_exporter": "python",
   "pygments_lexer": "ipython3",
   "version": "3.11.4"
  }
 },
 "nbformat": 4,
 "nbformat_minor": 4
}
