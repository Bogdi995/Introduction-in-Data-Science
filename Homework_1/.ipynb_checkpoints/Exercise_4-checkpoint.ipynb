{
 "cells": [
  {
   "cell_type": "markdown",
   "metadata": {},
   "source": [
    "(1p) Given a list of numbers and a natural number n, $n \\ge 1$, determine all triplets a, b, c with a < b in the list, for which $a^n + b^n = c^n$.\n",
    "\n",
    "Examples:\n",
    "\n",
    "list = [12, 11, 10, 9, 8, 7, 6, 5, 4, 3, 2], n=2 -> 3 4 5; 6 8 10\n",
    "\n",
    "list = [90, 10, 20, 30, 40, 50], n=3 -> 'No solution' is displayed"
   ]
  },
  {
   "cell_type": "code",
   "execution_count": 2,
   "metadata": {},
   "outputs": [
    {
     "name": "stdout",
     "output_type": "stream",
     "text": [
      "[6, 8, 10]\n",
      "[3, 4, 5]\n"
     ]
    }
   ],
   "source": [
    "from itertools import combinations \n",
    "\n",
    "def formula(a, b, c, n):\n",
    "    return (a**n + b**n == c**n);\n",
    "\n",
    "def test_formula(my_list):\n",
    "    my_list = list(combinations(my_list, 3))\n",
    "    verification = False;\n",
    "    \n",
    "    for combination in my_list:\n",
    "        combination = sorted(combination)\n",
    "        if formula(combination[0], combination[1], combination[2], n) == True:\n",
    "            print(combination)\n",
    "            verification = True;\n",
    "            \n",
    "    if verification == False:\n",
    "        print(\"There were no solutions found\")\n",
    "        \n",
    "given_list = [12, 11, 10, 9, 8, 7, 6, 5, 4, 3, 2]\n",
    "n = 2;\n",
    "test_formula(given_list)"
   ]
  },
  {
   "cell_type": "code",
   "execution_count": null,
   "metadata": {},
   "outputs": [],
   "source": []
  }
 ],
 "metadata": {
  "kernelspec": {
   "display_name": "Python 3 (ipykernel)",
   "language": "python",
   "name": "python3"
  },
  "language_info": {
   "codemirror_mode": {
    "name": "ipython",
    "version": 3
   },
   "file_extension": ".py",
   "mimetype": "text/x-python",
   "name": "python",
   "nbconvert_exporter": "python",
   "pygments_lexer": "ipython3",
   "version": "3.11.4"
  }
 },
 "nbformat": 4,
 "nbformat_minor": 4
}
