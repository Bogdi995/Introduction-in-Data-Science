{
 "cells": [
  {
   "cell_type": "code",
   "execution_count": 2,
   "metadata": {
    "scrolled": false
   },
   "outputs": [
    {
     "name": "stdout",
     "output_type": "stream",
     "text": [
      "['Popescu', 'Ionescu', 'Maximilian'] sunt disponibili in intervalele/intervalul ['16']\n"
     ]
    }
   ],
   "source": [
    "def get_all_items(dictionary):\n",
    "    myList = []\n",
    "    for key, arrayValue in dictionary.items():\n",
    "        for value in arrayValue:\n",
    "            myList.append(value)\n",
    "    return myList\n",
    "\n",
    "def get_maximum_interval_apperances(c, all_items):\n",
    "    maximum = -1\n",
    "    for interval in set(all_items):\n",
    "        if c[interval] > maximum:\n",
    "            maximum = c[interval]\n",
    "    return maximum\n",
    "        \n",
    "def print_result(maximum_intervals, doodle, keys):\n",
    "    myDict = {}\n",
    "    for interval in maximum_intervals:\n",
    "        myDict[interval] = []\n",
    "        for key in keys:\n",
    "            if interval in doodle[key]:\n",
    "                myDict[interval].append(key)\n",
    "    groupList = []\n",
    "    for key in myDict.keys():\n",
    "        commonList = [k for k in myDict.keys() if myDict[key] == myDict[k]]\n",
    "        if commonList not in groupList:\n",
    "            groupList.append(commonList)\n",
    "            names = [names for names in myDict[key]]\n",
    "            print(names, \"sunt disponibili in intervalele/intervalul\", commonList)\n",
    "        \n",
    "                \n",
    "    \n",
    "\n",
    "from collections import Counter\n",
    "doodle = {\n",
    "\"Popescu\": [\"13\", \"13.30\", \"16\", \"17\"], \n",
    "\"Ionescu\": [\"13\", \"13.30\", \"16\", \"17\", \"17.30\", \"11\", \"15\"],\n",
    "\"Maximilian\": [\"14\", \"14.30\", \"15\", \"15.30\", \"16\", \"16.30\", \"19\", \"19.30\"]\n",
    "}\n",
    "\n",
    "\n",
    "all_items = get_all_items(doodle)\n",
    "c = Counter(all_items)\n",
    "max_apperances = get_maximum_interval_apperances(c, all_items)\n",
    "maximum_intervals = [key for key in set(all_items) if c[key] == max_apperances]\n",
    "\n",
    "print_result(maximum_intervals, doodle, list([*doodle]))\n",
    "\n",
    "\n",
    "\n",
    "\n",
    "\n"
   ]
  },
  {
   "cell_type": "code",
   "execution_count": null,
   "metadata": {},
   "outputs": [],
   "source": []
  },
  {
   "cell_type": "code",
   "execution_count": null,
   "metadata": {},
   "outputs": [],
   "source": []
  },
  {
   "cell_type": "code",
   "execution_count": null,
   "metadata": {},
   "outputs": [],
   "source": []
  },
  {
   "cell_type": "code",
   "execution_count": null,
   "metadata": {},
   "outputs": [],
   "source": []
  },
  {
   "cell_type": "code",
   "execution_count": null,
   "metadata": {},
   "outputs": [],
   "source": []
  },
  {
   "cell_type": "code",
   "execution_count": null,
   "metadata": {},
   "outputs": [],
   "source": []
  },
  {
   "cell_type": "code",
   "execution_count": null,
   "metadata": {},
   "outputs": [],
   "source": []
  },
  {
   "cell_type": "code",
   "execution_count": null,
   "metadata": {},
   "outputs": [],
   "source": []
  }
 ],
 "metadata": {
  "kernelspec": {
   "display_name": "Python 3",
   "language": "python",
   "name": "python3"
  },
  "language_info": {
   "codemirror_mode": {
    "name": "ipython",
    "version": 3
   },
   "file_extension": ".py",
   "mimetype": "text/x-python",
   "name": "python",
   "nbconvert_exporter": "python",
   "pygments_lexer": "ipython3",
   "version": "3.8.0"
  }
 },
 "nbformat": 4,
 "nbformat_minor": 4
}
