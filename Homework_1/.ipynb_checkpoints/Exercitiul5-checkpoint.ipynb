{
 "cells": [
  {
   "cell_type": "code",
   "execution_count": 14,
   "metadata": {},
   "outputs": [
    {
     "name": "stdout",
     "output_type": "stream",
     "text": [
      "Stringul provine din pasareasca\n"
     ]
    }
   ],
   "source": [
    "def IsVowel(character):\n",
    "    if character in \"aeiou\":\n",
    "        return True\n",
    "    return False\n",
    "\n",
    "def CheckBirdify(vowel,birdify):\n",
    "    newWord1 = vowel + 'p' + vowel\n",
    "    newWord2 = vowel + 'P' + vowel\n",
    "    if newWord1 == birdify or newWord2 == birdify:\n",
    "        return True\n",
    "    return False\n",
    "\n",
    "word = \"bupucupu\"\n",
    "\n",
    "isBirdified = True\n",
    "index = 0\n",
    "while index in range(0, len(word) - 2):\n",
    "    if IsVowel(word[index]) is True:\n",
    "        birdify = word[index] + word[index + 1] + word[index + 2]\n",
    "        if CheckBirdify(word[index], birdify) is False:\n",
    "            isBirdified = False\n",
    "            break\n",
    "        index += 2\n",
    "    index += 1\n",
    "    \n",
    "if(IsVowel(word[len(word)-2]) is True or (IsVowel(word[len(word)-3]) is False and IsVowel(word[len(word)-1]) is True)):\n",
    "    isBirdified = False;\n",
    "\n",
    "if isBirdified is True:\n",
    "    print('Stringul provine din pasareasca')\n",
    "else:\n",
    "    print('Stringul nu provine din pasareasca')"
   ]
  },
  {
   "cell_type": "code",
   "execution_count": null,
   "metadata": {},
   "outputs": [],
   "source": []
  }
 ],
 "metadata": {
  "kernelspec": {
   "display_name": "Python 3",
   "language": "python",
   "name": "python3"
  },
  "language_info": {
   "codemirror_mode": {
    "name": "ipython",
    "version": 3
   },
   "file_extension": ".py",
   "mimetype": "text/x-python",
   "name": "python",
   "nbconvert_exporter": "python",
   "pygments_lexer": "ipython3",
   "version": "3.8.0"
  }
 },
 "nbformat": 4,
 "nbformat_minor": 4
}
