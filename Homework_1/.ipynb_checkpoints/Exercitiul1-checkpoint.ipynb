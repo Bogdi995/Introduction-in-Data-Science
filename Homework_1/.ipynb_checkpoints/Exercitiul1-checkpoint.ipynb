{
 "cells": [
  {
   "cell_type": "code",
   "execution_count": 1,
   "metadata": {},
   "outputs": [
    {
     "name": "stdout",
     "output_type": "stream",
     "text": [
      "43\n"
     ]
    }
   ],
   "source": [
    "myList = [10, 3, 5, 20, -4, 9, 1]\n",
    "myList.sort()\n",
    "\n",
    "if len(myList) < 3:\n",
    "    print('The list must contain minimum 3 numbers')\n",
    "else:\n",
    "    print(myList[-1] + myList[-2] + myList[-3] - myList[0] * myList[1])"
   ]
  },
  {
   "cell_type": "code",
   "execution_count": null,
   "metadata": {},
   "outputs": [],
   "source": []
  }
 ],
 "metadata": {
  "kernelspec": {
   "display_name": "Python 3",
   "language": "python",
   "name": "python3"
  },
  "language_info": {
   "codemirror_mode": {
    "name": "ipython",
    "version": 3
   },
   "file_extension": ".py",
   "mimetype": "text/x-python",
   "name": "python",
   "nbconvert_exporter": "python",
   "pygments_lexer": "ipython3",
   "version": "3.8.3"
  }
 },
 "nbformat": 4,
 "nbformat_minor": 4
}
