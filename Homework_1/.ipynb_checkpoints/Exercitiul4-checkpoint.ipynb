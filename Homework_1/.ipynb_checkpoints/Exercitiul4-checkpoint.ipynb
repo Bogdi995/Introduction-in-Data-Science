{
 "cells": [
  {
   "cell_type": "code",
   "execution_count": 94,
   "metadata": {
    "scrolled": false
   },
   "outputs": [
    {
     "name": "stdout",
     "output_type": "stream",
     "text": [
      "[6, 8, 10]\n",
      "[3, 4, 5]\n"
     ]
    }
   ],
   "source": [
    "from itertools import combinations \n",
    "\n",
    "def formula(a,b,c,n):\n",
    "    return (a**n + b**n == c**n);\n",
    "\n",
    "def testFormula(myList):\n",
    "    myList = list(combinations(myList, 3))\n",
    "    verification = False;\n",
    "    for combination in myList:\n",
    "        combination = sorted(combination)\n",
    "        if formula(combination[0],combination[1],combination[2],n) == True:\n",
    "            print(combination)\n",
    "            verification = True;\n",
    "    if verification == False:\n",
    "        print(\"Nu s-au gasit solutii\")\n",
    "        \n",
    "lista = [12, 11, 10, 9, 8, 7, 6, 5, 4, 3, 2]\n",
    "n = 2;\n",
    "testFormula(lista)\n",
    "\n"
   ]
  },
  {
   "cell_type": "code",
   "execution_count": null,
   "metadata": {},
   "outputs": [],
   "source": []
  },
  {
   "cell_type": "code",
   "execution_count": null,
   "metadata": {},
   "outputs": [],
   "source": []
  },
  {
   "cell_type": "code",
   "execution_count": null,
   "metadata": {},
   "outputs": [],
   "source": []
  },
  {
   "cell_type": "code",
   "execution_count": null,
   "metadata": {},
   "outputs": [],
   "source": []
  },
  {
   "cell_type": "code",
   "execution_count": null,
   "metadata": {},
   "outputs": [],
   "source": []
  },
  {
   "cell_type": "code",
   "execution_count": null,
   "metadata": {},
   "outputs": [],
   "source": []
  },
  {
   "cell_type": "code",
   "execution_count": null,
   "metadata": {},
   "outputs": [],
   "source": []
  },
  {
   "cell_type": "code",
   "execution_count": null,
   "metadata": {},
   "outputs": [],
   "source": []
  }
 ],
 "metadata": {
  "kernelspec": {
   "display_name": "Python 3",
   "language": "python",
   "name": "python3"
  },
  "language_info": {
   "codemirror_mode": {
    "name": "ipython",
    "version": 3
   },
   "file_extension": ".py",
   "mimetype": "text/x-python",
   "name": "python",
   "nbconvert_exporter": "python",
   "pygments_lexer": "ipython3",
   "version": "3.8.0"
  }
 },
 "nbformat": 4,
 "nbformat_minor": 4
}
