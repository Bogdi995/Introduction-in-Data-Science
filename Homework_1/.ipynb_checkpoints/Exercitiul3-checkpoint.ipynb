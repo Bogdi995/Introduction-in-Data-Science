{
 "cells": [
  {
   "cell_type": "code",
   "execution_count": 1,
   "metadata": {},
   "outputs": [
    {
     "name": "stdout",
     "output_type": "stream",
     "text": [
      "The numbers that multiplied have the maximum product are: -5 -4 1\n"
     ]
    }
   ],
   "source": [
    "myList = [1, -2, -3, -4, -5, 0]\n",
    "myList.sort();\n",
    "\n",
    "if myList[-1] * myList[-2] * myList[-3] > myList[0] * myList[1] * myList[-1]:\n",
    "    print('The numbers that multiplied have the maximum product are: ' + str(myList[-1]), str(myList[-2]), str(myList[-3]))\n",
    "else:\n",
    "    print('The numbers that multiplied have the maximum product are: ' + str(myList[0]), str(myList[1]), str(myList[-1]))"
   ]
  }
 ],
 "metadata": {
  "kernelspec": {
   "display_name": "Python 3",
   "language": "python",
   "name": "python3"
  },
  "language_info": {
   "codemirror_mode": {
    "name": "ipython",
    "version": 3
   },
   "file_extension": ".py",
   "mimetype": "text/x-python",
   "name": "python",
   "nbconvert_exporter": "python",
   "pygments_lexer": "ipython3",
   "version": "3.8.3"
  }
 },
 "nbformat": 4,
 "nbformat_minor": 4
}
