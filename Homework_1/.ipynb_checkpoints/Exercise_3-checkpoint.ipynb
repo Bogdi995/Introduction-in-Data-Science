{
 "cells": [
  {
   "cell_type": "markdown",
   "metadata": {},
   "source": [
    "3. (1p) Give a list of at least 10 numbers. Which 3 numbers in the list, multiplied together, give the maximum product?\n",
    "\n",
    "Examples:\n",
    "\n",
    "[10, 1, 2, 9, 7, 8, 3, 6, 4, 5] -> p_max=720, solution=(10, 9, 8)\n",
    "\n",
    "[1, -2, -3, -4, -5, 0] -> p_max=20, solution=(1, -4, -5)"
   ]
  },
  {
   "cell_type": "code",
   "execution_count": 4,
   "metadata": {},
   "outputs": [
    {
     "name": "stdout",
     "output_type": "stream",
     "text": [
      "The numbers that multiplied have the maximum product are: -5 -4 1\n"
     ]
    }
   ],
   "source": [
    "my_list = [1, -2, -3, -4, -5, 0]\n",
    "my_list.sort();\n",
    "\n",
    "if my_list[-1] * my_list[-2] * my_list[-3] > my_list[0] * my_list[1] * my_list[-1]:\n",
    "    print('The numbers that multiplied have the maximum product are: ' + str(my_list[-1]), str(my_list[-2]), str(my_list[-3]))\n",
    "else:\n",
    "    print('The numbers that multiplied have the maximum product are: ' + str(my_list[0]), str(my_list[1]), str(my_list[-1]))"
   ]
  },
  {
   "cell_type": "code",
   "execution_count": null,
   "metadata": {},
   "outputs": [],
   "source": []
  }
 ],
 "metadata": {
  "kernelspec": {
   "display_name": "Python 3 (ipykernel)",
   "language": "python",
   "name": "python3"
  },
  "language_info": {
   "codemirror_mode": {
    "name": "ipython",
    "version": 3
   },
   "file_extension": ".py",
   "mimetype": "text/x-python",
   "name": "python",
   "nbconvert_exporter": "python",
   "pygments_lexer": "ipython3",
   "version": "3.11.4"
  }
 },
 "nbformat": 4,
 "nbformat_minor": 4
}
