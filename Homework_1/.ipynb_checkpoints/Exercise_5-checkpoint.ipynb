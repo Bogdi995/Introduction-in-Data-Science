{
 "cells": [
  {
   "cell_type": "markdown",
   "metadata": {},
   "source": [
    "5. (1p) Given a sentence, detemine its transcription into its \"birdified\" version (a vowel becomes a vowel + 'P' + vowel\n",
    "\n",
    "Write a program that does the reverse translation (if the given string comes from pasareasca; if not, signal this).\n",
    "\n",
    "Example of translation in the \"birdified\" version: home-goat-goat, girlfriend-goat-goat."
   ]
  },
  {
   "cell_type": "code",
   "execution_count": 7,
   "metadata": {},
   "outputs": [],
   "source": [
    "def is_vowel(character):\n",
    "    if character in \"aeiou\":\n",
    "        return True\n",
    "    return False\n",
    "\n",
    "def check_birdify(vowel, birdify):\n",
    "    new_word_1 = vowel + 'p' + vowel\n",
    "    new_word_2 = vowel + 'P' + vowel\n",
    "    \n",
    "    if new_word_1 == birdify or new_word_2 == birdify:\n",
    "        return True\n",
    "    return False"
   ]
  },
  {
   "cell_type": "code",
   "execution_count": 8,
   "metadata": {},
   "outputs": [],
   "source": [
    "word = \"bupucupu\"\n",
    "\n",
    "is_birdified = True\n",
    "index = 0\n",
    "while index in range(0, len(word) - 2):\n",
    "    if is_vowel(word[index]) is True:\n",
    "        birdify = word[index] + word[index + 1] + word[index + 2]\n",
    "        if check_birdify(word[index], birdify) is False:\n",
    "            is_birdified = False\n",
    "            break\n",
    "        index += 2\n",
    "    index += 1\n",
    "    \n",
    "if(is_vowel(word[len(word) - 2]) is True or (is_vowel(word[len(word) - 3]) is False and is_vowel(word[len(word) - 1]) is True)):\n",
    "    is_birdified = False;"
   ]
  },
  {
   "cell_type": "code",
   "execution_count": 9,
   "metadata": {},
   "outputs": [
    {
     "name": "stdout",
     "output_type": "stream",
     "text": [
      "The string is birdified.\n"
     ]
    }
   ],
   "source": [
    "if is_birdified is True:\n",
    "    print('The string is birdified.')\n",
    "else:\n",
    "    print('The string is not birtified.')"
   ]
  },
  {
   "cell_type": "code",
   "execution_count": null,
   "metadata": {},
   "outputs": [],
   "source": []
  }
 ],
 "metadata": {
  "kernelspec": {
   "display_name": "Python 3 (ipykernel)",
   "language": "python",
   "name": "python3"
  },
  "language_info": {
   "codemirror_mode": {
    "name": "ipython",
    "version": 3
   },
   "file_extension": ".py",
   "mimetype": "text/x-python",
   "name": "python",
   "nbconvert_exporter": "python",
   "pygments_lexer": "ipython3",
   "version": "3.11.4"
  }
 },
 "nbformat": 4,
 "nbformat_minor": 4
}
