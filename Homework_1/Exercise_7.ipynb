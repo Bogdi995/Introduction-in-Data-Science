{
 "cells": [
  {
   "cell_type": "markdown",
   "metadata": {},
   "source": [
    "7. (1p) A dictionary of persons is given, and for each person a list of availability times. An availability starts at a certain fixed time (e.g. 17:00) or fixed time + 30 minutes and lasts exactly 30 minutes. \n",
    "Example:\n",
    "```python\n",
    "doodle = {\n",
    "\"Popescu\": [\"13\", \"13.30\", \"16\", \"17\"], # Popescu is available between: 13 and 13.30, 13.30-14, 16-16.30, 17-17.30\n",
    "\"Ionescu\": [\"13\", \"13.30\", \"16\", \"17\", \"17.30\", \"11\", \"15\"],\n",
    "\"Maximilian\": [\"14\", \"14.30\", \"15\", \"15.30\", \"16\", \"16.30\", \"19\", \"19.30\"]\n",
    "}\n",
    "```\n",
    "Determine all intervals in which all persons are available. If there are no such intervals, then determine the intervals in which the maximum number of persons can participate. If there are several intervals for this maximum number of persons, then give all the solutions. In each case the list of participants and the time slots are given.\n",
    "\n",
    "\n",
    "Note: we are looking for time slots with as many participants as possible for 30 minutes."
   ]
  },
  {
   "cell_type": "code",
   "execution_count": 3,
   "metadata": {},
   "outputs": [],
   "source": [
    "def get_all_items(dictionary):\n",
    "    my_list = []\n",
    "    for key, array_value in dictionary.items():\n",
    "        for value in array_value:\n",
    "            my_list.append(value)\n",
    "    return my_list\n",
    "\n",
    "def get_maximum_interval_apperances(c, all_items):\n",
    "    maximum = -1\n",
    "    for interval in set(all_items):\n",
    "        if c[interval] > maximum:\n",
    "            maximum = c[interval]\n",
    "    return maximum\n",
    "        \n",
    "def print_result(maximum_intervals, doodle, keys):\n",
    "    my_dict = {}\n",
    "    for interval in maximum_intervals:\n",
    "        my_dict[interval] = []\n",
    "        for key in keys:\n",
    "            if interval in doodle[key]:\n",
    "                my_dict[interval].append(key)\n",
    "                \n",
    "    group_list = []\n",
    "    \n",
    "    for key in my_dict.keys():\n",
    "        common_list = [k for k in my_dict.keys() if my_dict[key] == my_dict[k]]\n",
    "        if common_list not in group_list:\n",
    "            group_list.append(common_list)\n",
    "            names = [names for names in my_dict[key]]\n",
    "            print(names, \"are available in the interval/intervals\", common_list)"
   ]
  },
  {
   "cell_type": "code",
   "execution_count": 4,
   "metadata": {},
   "outputs": [
    {
     "name": "stdout",
     "output_type": "stream",
     "text": [
      "['Popescu', 'Ionescu', 'Maximilian'] are available in the interval/intervals ['16']\n"
     ]
    }
   ],
   "source": [
    "from collections import Counter\n",
    "\n",
    "doodle = {\n",
    "\"Popescu\": [\"13\", \"13.30\", \"16\", \"17\"], \n",
    "\"Ionescu\": [\"13\", \"13.30\", \"16\", \"17\", \"17.30\", \"11\", \"15\"],\n",
    "\"Maximilian\": [\"14\", \"14.30\", \"15\", \"15.30\", \"16\", \"16.30\", \"19\", \"19.30\"]\n",
    "}\n",
    "\n",
    "all_items = get_all_items(doodle)\n",
    "c = Counter(all_items)\n",
    "max_apperances = get_maximum_interval_apperances(c, all_items)\n",
    "maximum_intervals = [key for key in set(all_items) if c[key] == max_apperances]\n",
    "\n",
    "print_result(maximum_intervals, doodle, list([*doodle]))"
   ]
  },
  {
   "cell_type": "code",
   "execution_count": null,
   "metadata": {},
   "outputs": [],
   "source": []
  }
 ],
 "metadata": {
  "kernelspec": {
   "display_name": "Python 3 (ipykernel)",
   "language": "python",
   "name": "python3"
  },
  "language_info": {
   "codemirror_mode": {
    "name": "ipython",
    "version": 3
   },
   "file_extension": ".py",
   "mimetype": "text/x-python",
   "name": "python",
   "nbconvert_exporter": "python",
   "pygments_lexer": "ipython3",
   "version": "3.11.4"
  }
 },
 "nbformat": 4,
 "nbformat_minor": 4
}
