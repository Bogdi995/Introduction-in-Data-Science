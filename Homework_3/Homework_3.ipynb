{
 "cells": [
  {
   "cell_type": "markdown",
   "metadata": {},
   "source": [
    "Exercise 1. (2 points) Define a polynomial function of degree 3, $f:\\mathbb{R} \\rightarrow \\mathbb{R}$, with predetermined constant coefficients. Apply the gradient descent algorithm to see how the search for the minimum evolves. Use at least two ipywidgets controls: one for the initial position of $x$, another for the coefficient $\\alpha>0$ by which the gradient is multiplied. The gradient will be calculated analytically by you or using the [autograd] library (https://github.com/HIPS/autograd). \n",
    "The modification made by the gradient descent method is:\n",
    "$$\n",
    "x = x - \\alpha \\cdot f'(x)\n",
    "$$\n",
    "Perform at least 10 iterations (optional: the number of iterations can be given by an ipywidgets control), mark the successive positions on the graph, conveniently."
   ]
  },
  {
   "cell_type": "code",
   "execution_count": 1,
   "metadata": {},
   "outputs": [
    {
     "data": {
      "application/vnd.jupyter.widget-view+json": {
       "model_id": "f395f40f0e124d5f8cf8b1f0bd0c9d17",
       "version_major": 2,
       "version_minor": 0
      },
      "text/plain": [
       "interactive(children=(IntSlider(value=-2, description='left', max=2, min=-6), IntSlider(value=2, description='…"
      ]
     },
     "metadata": {},
     "output_type": "display_data"
    }
   ],
   "source": [
    "from ipywidgets import interact;\n",
    "import numpy as np\n",
    "from typing import Any, Tuple\n",
    "import matplotlib.pyplot as plt\n",
    "from autograd import grad\n",
    "\n",
    "def f(x) -> Any:\n",
    "    \"\"\"\n",
    "    Function generating function f\n",
    "    :param1: x: coordinate x\n",
    "    :return\": 3rd order polynomial function as a function of x\n",
    "    \"\"\"\n",
    "    a = 2\n",
    "    b = 4\n",
    "    c = -3\n",
    "    d = 3\n",
    "    return (a*(x**3) + b*(x**2) + c * x + d)\n",
    "\n",
    "def f_draw(left = -2 , right = 2, alfa = 0.2, position = 1.)-> None:\n",
    "    \"\"\"\n",
    "    Function that will plot the function graph along with the minimum search using the gradient descent algorithm\n",
    "    :param1: left: lower bound of x\n",
    "    :param2: right: upper limit of x\n",
    "    :param3: alpha: the coefficient by which the gradient is multiplied\n",
    "    :param4: position: initial position of x\n",
    "    :return: none\n",
    "    \"\"\"\n",
    "    assert left < right\n",
    "    range_x = np.linspace(left, right, 100)\n",
    "    function = f(range_x);\n",
    "    plt.figure(figsize=(10, 10))\n",
    "    gradient = grad(f)\n",
    "    plt.grid(axis='both')\n",
    "    plt.axhline(y=0, color='k')\n",
    "    plt.axvline(x=0, color='k')\n",
    "    plt.xlabel('x')\n",
    "    plt.ylabel(f'{2}x^3 + {4}x^2 + {-3}x + {3}')\n",
    "    result = sgd(position, alfa, 10, gradient)\n",
    "    plt.plot(range_x, function)\n",
    "    if result is not None:\n",
    "        plt.plot(result, [f(x) for x in result], 'o--')\n",
    "    plt.show()\n",
    "    \n",
    "def sgd(x, alfa, epochs, gradient):\n",
    "    \"\"\"\n",
    "    Algorithm gradiend descent:\n",
    "    :param1: x: initial position\n",
    "    :param2: alpha: constant by which the gradient is multiplied\n",
    "    :param3: epochs: number of iterations\n",
    "    :param4: gradient: gradient of the function or derivative of the function\n",
    "    :returns: the number of minimum points\n",
    "    \"\"\"\n",
    "    res = [x]\n",
    "    for _ in range(epochs):\n",
    "        x -= alfa * gradient(x)\n",
    "        res += [x]\n",
    "    return res\n",
    "    \n",
    "interact(f_draw, alfa=(0.1, 0.25, 0.05), position =(-2, 1.50, 0.10));"
   ]
  },
  {
   "cell_type": "markdown",
   "metadata": {},
   "source": [
    "Exercise 2. (3 points) Generate a list of $n=100$ pairs of values $\\{x_i, y_i\\}_{i=0,n-1}$ in the range [-20, 10), display these values on a graph, together with a line defined by a linear function $y=a \\cdot x+b$. In another plot display, as a histogram, the distance between the coordinate points $(x_i, y_i)$ and the points of intersection of the vertices through $x_i$ with the given line, $\\hat{y}_i$. The line must be controllable from widgets, by the two coefficients $a$ and $b$. Note the change in the histogram as a function of the position of the line and display the mean squared error: $$MSE=\\frac{1}{n} \\cdot \\sum_{i=0}^{n-1} (y_i - (a\\cdot x_i + b))^2$$.\r\n",
    "\r\n",
    "![linear regression](linreg.png)\r\n",
    "\r\n",
    "*Indications:*\r\n",
    "1. For generating uniformly distributed values in the interval [0, 1) you can use the function [numpy.random.uniform](https://docs.scipy.org/doc/numpy/reference/generated/numpy.random.uniform.html) and do convenient multiplication and addition.\r\n",
    "1. You can choose to return the $n$ points as `vector_x`, `vectr_y`.\r\n"
   ]
  },
  {
   "cell_type": "code",
   "execution_count": 2,
   "metadata": {},
   "outputs": [
    {
     "data": {
      "application/vnd.jupyter.widget-view+json": {
       "model_id": "6829bed5a7e04094bcc2f870e4a78844",
       "version_major": 2,
       "version_minor": 0
      },
      "text/plain": [
       "interactive(children=(FloatSlider(value=0.0, description='a', min=-100.0), FloatSlider(value=0.0, description=…"
      ]
     },
     "metadata": {},
     "output_type": "display_data"
    },
    {
     "data": {
      "application/vnd.jupyter.widget-view+json": {
       "model_id": "690a90190ff74182896a8abb9c4c9876",
       "version_major": 2,
       "version_minor": 0
      },
      "text/plain": [
       "interactive(children=(FloatSlider(value=0.0, description='a', min=-100.0), FloatSlider(value=0.0, description=…"
      ]
     },
     "metadata": {},
     "output_type": "display_data"
    },
    {
     "data": {
      "application/vnd.jupyter.widget-view+json": {
       "model_id": "988027aee6e54881924c0c7b44d60ec7",
       "version_major": 2,
       "version_minor": 0
      },
      "text/plain": [
       "interactive(children=(FloatSlider(value=0.0, description='a', min=-100.0), FloatSlider(value=0.0, description=…"
      ]
     },
     "metadata": {},
     "output_type": "display_data"
    }
   ],
   "source": [
    "import numpy as np\n",
    "import matplotlib.pyplot as plt\n",
    "from math import sqrt\n",
    "from ipywidgets import interact\n",
    "from sklearn.metrics import mean_squared_error\n",
    "\n",
    "def function_graph(a: float=0, b:float=0) -> None:\n",
    "    \"\"\"\n",
    "    Displays the graph of a function of first degree form:\n",
    "    y=a*x+b\n",
    "    :param a: coefficient of x\n",
    "    :param b: coefficient of x*0\n",
    "    :return: None\n",
    "    \"\"\"\n",
    "    x_range = a*x+b\n",
    "    plt.figure(figsize=(10, 8))\n",
    "    plt.xlabel('x')\n",
    "    plt.ylabel('x_range')\n",
    "    plt.plot(x,x_range,color='black')\n",
    "    plt.grid(axis='both')\n",
    "    \n",
    "def shortest_distance(x:float, y:float, a:float, b:float) -> float:\n",
    "    return sqrt( (y-(a*x+b))**2 ) \n",
    "    \n",
    "def histogram_MSE(a: float=0, b:float=0) -> None:\n",
    "    \"\"\"\n",
    "    Displays as a histogram the distance between coordinate points (𝑥𝑖,𝑦𝑖) \n",
    "    and the points of intersection of the vertices through 𝑥𝑖 with the given line, 𝑦̂𝑖.\n",
    "    The change in the histogram as a function of the position of the line is noted and the mean squared error is displayed.\n",
    "    :param a: coefficient of x\n",
    "    :param b: coefficient of x*0\n",
    "    :return: None\n",
    "    \"\"\"\n",
    "    distance = [shortest_distance(x[index],y[index],a,b) for index in range(0,len(x))]\n",
    "    plt.hist(distance, density=True, bins=100)\n",
    "    plt.xlabel('x')\n",
    "    plt.ylabel('y')\n",
    "    print(mean_squared_error(y, (a*x+b)))\n",
    "    \n",
    "def show_graph(a: float=0, b: float=0) -> None:\n",
    "    \"\"\"\n",
    "    Displays as a graph the distance between coordinate points (𝑥𝑖,𝑦𝑖) \n",
    "    and the points of intersection of the vertices through 𝑥𝑖 with the given line, 𝑦̂𝑖.\n",
    "    :param a: the coefficient of x\n",
    "    :param b: coefficient of x*0\n",
    "    :return: None\n",
    "    \"\"\"\n",
    "    plt.xlabel('x')\n",
    "    plt.ylabel('y')\n",
    "    plt.axhline(y=0, color='k')\n",
    "    plt.axvline(x=0, color='k')\n",
    "    plt.plot(x,a*x+b,color='red')\n",
    "    plt.plot(x,y,'o',color='red')\n",
    "    \n",
    "x: list = np.random.uniform(-20,10,100)\n",
    "y: list = np.random.uniform(-20,10,100)\n",
    "interact(function_graph, a=(-100,100.0), b=(-100,100.0));\n",
    "interact(histogram_MSE, a=(-100,100.0), b=(-100,100.0));\n",
    "interact(show_graph, a=(-100,100.0), b=(-100,100.0));"
   ]
  },
  {
   "cell_type": "markdown",
   "metadata": {},
   "source": [
    "Exercise 3. (2 points) Load the `iris.data` file from [iris dataset](https://archive.ics.uci.edu/ml/datasets/iris). Based on the choices expressed by a user, display the chosen numeric columns (e.g. column 0 and column 2) in a 2D graph. The column names are in the iris.names file.\n",
    "\n",
    "*Indications/options*:\n",
    "* Loading data can be done with numpy, function [loadtxt](https://docs.scipy.org/doc/numpy/reference/generated/numpy.loadtxt.html). Specify that it skips the first line of the file (header). Alternatively, you can use [pandas.read_csv](https://pandas.pydata.org/pandas-docs/stable/reference/api/pandas.read_csv.html).\n",
    "* For the two choices you can instantiate two objects [Dropdown](https://ipywidgets.readthedocs.io/en/stable/examples/Widget%20List.html#Dropdown) or [Select](https://ipywidgets.readthedocs.io/en/stable/examples/Widget%20List.html#Select)."
   ]
  },
  {
   "cell_type": "code",
   "execution_count": 3,
   "metadata": {},
   "outputs": [
    {
     "data": {
      "application/vnd.jupyter.widget-view+json": {
       "model_id": "a40a9266d1d74d1eb5ff2d98de80f1ac",
       "version_major": 2,
       "version_minor": 0
      },
      "text/plain": [
       "interactive(children=(Dropdown(description='column_1', options=('sepal_length_cm', 'sepal_width_cm', 'petal_le…"
      ]
     },
     "metadata": {},
     "output_type": "display_data"
    }
   ],
   "source": [
    "import numpy as np\n",
    "import matplotlib.pyplot as plt\n",
    "from ipywidgets import interact\n",
    "\n",
    "sepal_length_cm, sepal_width_cm, petal_length_cm, petal_width_cm, class_name = np.loadtxt(\"./iris.data\", dtype='str', delimiter=\",\", \n",
    "                                                                                          usecols=(0, 1, 2, 3, 4), skiprows=1, unpack=True)\n",
    "\n",
    "def show_graph(column_1: str, column_2: str) -> None:\n",
    "    \"\"\"\n",
    "    Calculate the graph based on the 2 columns chosen by the user\n",
    "    :param column_1: first column chosen by user\n",
    "    :param column_2: second column chosen by user\n",
    "    :return: None\n",
    "    \"\"\"\n",
    "    plt.figure(figsize=(12, 10))\n",
    "    plt.xlabel(column_1)\n",
    "    plt.ylabel(column_2)\n",
    "    plt.plot(my_dict[column_1], my_dict[column_2], 'ro')\n",
    "    plt.show()\n",
    "\n",
    "my_dict: dict = { \n",
    "    \"sepal_length_cm\": sepal_length_cm,\n",
    "    \"sepal_width_cm\": sepal_width_cm,\n",
    "    \"petal_length_cm\": petal_length_cm,\n",
    "    \"petal_width_cm\": petal_width_cm,\n",
    "    \"class_name\": class_name\n",
    "    }\n",
    "\n",
    "interact(show_graph, column_1 = ['sepal_length_cm', 'sepal_width_cm', 'petal_length_cm', 'petal_width_cm', 'class_name'], \n",
    "         column_2 = ['sepal_length_cm', 'sepal_width_cm', 'petal_length_cm', 'petal_width_cm', 'class_name']);"
   ]
  },
  {
   "cell_type": "markdown",
   "metadata": {},
   "source": [
    "Exercise 4 (3 points) Generate $n$ pairs of random points, using a function $f:\\mathbb{R} \\rightarrow \\mathbb{R}$ (i.e.: polynomial function + random noise added). Choose 5 interpolation methods from [scipy.interpolate](https://docs.scipy.org/doc/scipy/reference/interpolate.html) and plot the interpolated values. Use ipywidgets controls at least for the choice of $n$ and the chosen interpolation method."
   ]
  },
  {
   "cell_type": "code",
   "execution_count": 4,
   "metadata": {},
   "outputs": [
    {
     "data": {
      "application/vnd.jupyter.widget-view+json": {
       "model_id": "79be1fe22cfc457b8934fb0fa6305982",
       "version_major": 2,
       "version_minor": 0
      },
      "text/plain": [
       "interactive(children=(IntSlider(value=51, description='n', min=2), Dropdown(description='method', options=('Ba…"
      ]
     },
     "metadata": {},
     "output_type": "display_data"
    }
   ],
   "source": [
    "from scipy import interpolate\n",
    "import numpy as np\n",
    "import matplotlib.pyplot as plt\n",
    "from ipywidgets import interact;\n",
    "import warnings\n",
    "warnings.filterwarnings(\"ignore\", category=RuntimeWarning) \n",
    "\n",
    "def f(x) -> Any:\n",
    "    \"\"\"\n",
    "    Function defining the function f\n",
    "    :param1: x: x-coordinate\n",
    "    :return: function of degree 2\n",
    "    \"\"\"\n",
    "    return (5*x**2 + 4*x + 2)\n",
    "\n",
    "def generate_array(n: int) -> list:\n",
    "    \"\"\"\n",
    "    Function that generates a list of numbers\n",
    "    :param1: number of numbers in the list\n",
    "    :return: generated list\n",
    "    \"\"\"\n",
    "    return np.random.randint(-50, 100, n);\n",
    "\n",
    "def f_draw(n:int, method:str ) -> any:\n",
    "    \"\"\"\n",
    "    Function that draws the function points, along with the interpolation generated by the method the user has chosen\n",
    "    :param1: n: number of points\n",
    "    :param2: method: interpolation method\n",
    "    :returns: any\n",
    "    \"\"\"\n",
    "    range_x = generate_array(n);\n",
    "    range_x.sort()\n",
    "    function = f(range_x)\n",
    "    plt.figure(figsize=(10, 10))\n",
    "    plt.axhline(y=0, color='k')\n",
    "    plt.axvline(x=0, color='k')\n",
    "    interpolation = None\n",
    "    \n",
    "    if method == 'interp1d':\n",
    "        interpolation = interpolate.interp1d(range_x, f(range_x));\n",
    "    if method == 'BarycentricInterpolator':\n",
    "        interpolation = interpolate.BarycentricInterpolator(range_x, f(range_x));\n",
    "    if method == 'KroghInterpolator':\n",
    "        interpolation = interpolate.KroghInterpolator(range_x, f(range_x));\n",
    "    if method == 'UnivariateSpline':\n",
    "        interpolation = interpolate.UnivariateSpline(range_x, f(range_x));\n",
    "    if method == 'InterpolatedUnivariateSpline':\n",
    "        t = [-1, 0, 1]\n",
    "        interpolation = interpolate.LSQUnivariateSpline(range_x, f(range_x),t);\n",
    "        \n",
    "    plt.plot(range_x, function, 'o', range_x, interpolation(range_x), 'g-' )\n",
    "    plt.show();\n",
    "    \n",
    "interact(f_draw, n = (2,100), method = ['BarycentricInterpolator', 'interp1d', 'KroghInterpolator', 'UnivariateSpline', 'InterpolatedUnivariateSpline']);"
   ]
  },
  {
   "cell_type": "code",
   "execution_count": null,
   "metadata": {},
   "outputs": [],
   "source": []
  }
 ],
 "metadata": {
  "kernelspec": {
   "display_name": "Python 3 (ipykernel)",
   "language": "python",
   "name": "python3"
  },
  "language_info": {
   "codemirror_mode": {
    "name": "ipython",
    "version": 3
   },
   "file_extension": ".py",
   "mimetype": "text/x-python",
   "name": "python",
   "nbconvert_exporter": "python",
   "pygments_lexer": "ipython3",
   "version": "3.11.4"
  }
 },
 "nbformat": 4,
 "nbformat_minor": 4
}
