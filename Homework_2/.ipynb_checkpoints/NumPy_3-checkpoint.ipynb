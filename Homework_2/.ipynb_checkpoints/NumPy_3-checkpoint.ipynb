{
 "cells": [
  {
   "cell_type": "code",
   "execution_count": 33,
   "metadata": {},
   "outputs": [
    {
     "name": "stdout",
     "output_type": "stream",
     "text": [
      "[[ 0  2  4]\n",
      " [ 1  3  5]\n",
      " [ 2  4  6]\n",
      " [ 3  5  7]\n",
      " [ 4  6  8]\n",
      " [ 5  7  9]\n",
      " [ 6  8 10]\n",
      " [ 7  9 11]\n",
      " [ 8 10 12]\n",
      " [ 9 11 13]\n",
      " [10 12 14]\n",
      " [11 13 15]\n",
      " [12 14 16]\n",
      " [13 15 17]\n",
      " [14 16 18]\n",
      " [15 17 19]]\n"
     ]
    }
   ],
   "source": [
    "import numpy as np\n",
    "\n",
    "def check_inputs(v: list, win_len: int, dilation: int) -> bool:\n",
    "    \"\"\"\n",
    "    Functie care verifica input-ul\n",
    "    :param v: retine array-ul\n",
    "    :param win_len: retine numarul de elemente din vectorii rezultati\n",
    "    :param dilation: reprezinta peste cate elemente vecine se sare in construirea unei \"ferestre\"\n",
    "    :returns: True daca verificarile efectuate nu arunca vreo exceptie\n",
    "    :raises Exception: daca nu se indeplineste una din urmatoarele conditii: 0 < win_len <= numarul de elemente din vector, dilation > 0 si daca pentru vectorul de intrare, win_len si dilation date rezulta macar o fereastra\n",
    "    \"\"\"\n",
    "    if dilation <= 0:\n",
    "        raise Exception(\"Dilation must be bigger than 0\")\n",
    "    if win_len <= 0 or win_len > v.size:\n",
    "        raise Exception(\"The length of the windows must be bigger than 0 and smaller than the size of the array\")\n",
    "    if win_len * dilation - dilation > v.size - 1:\n",
    "        raise Exception(\"The given input doesn't result any window, please change your input\")\n",
    "    return True\n",
    "\n",
    "def calculate_windows(v: list, win_len: int=3, dilation: int=1) -> list:\n",
    "    \"\"\"\n",
    "    Functie care calculeaza si afiseaza ferestrele de o anumita lungime, cu o anumita dilatare\n",
    "    :param v: retine array-ul\n",
    "    :param win_len: retine numarul de elemente din vectorii rezultati\n",
    "    :param dilation: reprezinta peste cate elemente vecine se sare in construirea unei \"ferestre\"\n",
    "    :returns: array-ul rezultat in cazul in care functia \"check_inputs\" nu arunca vreo exceptie\n",
    "    \"\"\"\n",
    "    check_inputs(v, win_len, dilation)\n",
    "    arr: list = np.array([v[index:index + win_len * dilation:dilation] for index in range(0, v.size) if index + win_len <= v.size and len(v[index:index + win_len * dilation:dilation]) == win_len])\n",
    "    print(arr)\n",
    "        \n",
    "        \n",
    "v: list = np.arange(20)\n",
    "win_len: int = 3\n",
    "dilation: int = 2\n",
    "calculate_windows(v, win_len, dilation)"
   ]
  },
  {
   "cell_type": "code",
   "execution_count": null,
   "metadata": {},
   "outputs": [],
   "source": []
  }
 ],
 "metadata": {
  "kernelspec": {
   "display_name": "Python 3",
   "language": "python",
   "name": "python3"
  },
  "language_info": {
   "codemirror_mode": {
    "name": "ipython",
    "version": 3
   },
   "file_extension": ".py",
   "mimetype": "text/x-python",
   "name": "python",
   "nbconvert_exporter": "python",
   "pygments_lexer": "ipython3",
   "version": "3.8.3"
  }
 },
 "nbformat": 4,
 "nbformat_minor": 4
}
