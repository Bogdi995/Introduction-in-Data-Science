{
 "cells": [
  {
   "cell_type": "code",
   "execution_count": 25,
   "metadata": {},
   "outputs": [
    {
     "name": "stdout",
     "output_type": "stream",
     "text": [
      "True\n",
      "False\n",
      "False\n",
      "\n",
      "    Functie care determina daca un sir de caractere - presupus a fi scris cu litere mici - este sau nu palindrom\n",
      "    :param my_string: retine sirul de caractere\n",
      "    :param ignore_spaces: retine daca eliminam sau nu spatiile\n",
      "    :returns: True daca e palindrom si False altfel\n",
      "    :raises Exeption: Exceptie daca exista vreo litera mare in string\n",
      "    \n"
     ]
    }
   ],
   "source": [
    "def is_palindrome(my_string: str, ignore_spaces: bool=False) -> bool:\n",
    "    \"\"\"\n",
    "    Functie care determina daca un sir de caractere - presupus a fi scris cu litere mici - este sau nu palindrom\n",
    "    :param my_string: retine sirul de caractere\n",
    "    :param ignore_spaces: retine daca eliminam sau nu spatiile\n",
    "    :returns: True daca e palindrom si False altfel\n",
    "    :raises Exeption: Exceptie daca exista vreo litera mare in string\n",
    "    \"\"\"\n",
    "    if any(character.isupper() for character in my_string) is True:\n",
    "        raise Exception(\"Only lower characters allowed\")\n",
    "    if ignore_spaces is True:\n",
    "        my_string = my_string.replace(\" \", \"\")\n",
    "    return my_string == my_string[::-1]\n",
    "\n",
    "\n",
    "print(is_palindrome('ele fac cafele', ignore_spaces=True))\n",
    "print(is_palindrome('ele fac cafele'))\n",
    "#is_palindrome('Ele fac cafele')\n",
    "print(is_palindrome('abaac'))\n",
    "print(is_palindrome.__doc__)"
   ]
  },
  {
   "cell_type": "code",
   "execution_count": null,
   "metadata": {},
   "outputs": [],
   "source": []
  }
 ],
 "metadata": {
  "kernelspec": {
   "display_name": "Python 3",
   "language": "python",
   "name": "python3"
  },
  "language_info": {
   "codemirror_mode": {
    "name": "ipython",
    "version": 3
   },
   "file_extension": ".py",
   "mimetype": "text/x-python",
   "name": "python",
   "nbconvert_exporter": "python",
   "pygments_lexer": "ipython3",
   "version": "3.8.3"
  }
 },
 "nbformat": 4,
 "nbformat_minor": 4
}
