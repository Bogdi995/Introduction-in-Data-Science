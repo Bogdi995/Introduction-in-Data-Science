{
 "cells": [
  {
   "cell_type": "code",
   "execution_count": 40,
   "metadata": {},
   "outputs": [
    {
     "name": "stdout",
     "output_type": "stream",
     "text": [
      "[5 2 1]\n"
     ]
    }
   ],
   "source": [
    "import numpy as np\n",
    "\n",
    "def nearest_neighbors(array: list, value: float, nbr_neighbors: int) -> list:\n",
    "    \"\"\"\n",
    "    Functie care determina pozitiile celor mai apropiate \"nbr_neighbors\" valori din \"array\" fata de \"value\"\n",
    "    :param array: retine array-ul\n",
    "    :param value: retine valoarea pentru care vom cauta vecini\n",
    "    :param nbr_neighbors: retine numarul de vecini pe care ii vom cauta pentru \"value\"\n",
    "    :returns: indicii vecinilor cei mai apropiati\n",
    "    \"\"\"\n",
    "    return np.argsort(np.array([np.linalg.norm(value-x) for x in array]))[:nbr_neighbors]\n",
    "\n",
    "v: list = np.array([1.5, 2.02, 3.66, 13.12, 4.66, 3.00], dtype=np.float64)\n",
    "x: float = 3.2\n",
    "k: int = 3\n",
    "\n",
    "print(nearest_neighbors(v, x, k))"
   ]
  },
  {
   "cell_type": "code",
   "execution_count": null,
   "metadata": {},
   "outputs": [],
   "source": []
  }
 ],
 "metadata": {
  "kernelspec": {
   "display_name": "Python 3",
   "language": "python",
   "name": "python3"
  },
  "language_info": {
   "codemirror_mode": {
    "name": "ipython",
    "version": 3
   },
   "file_extension": ".py",
   "mimetype": "text/x-python",
   "name": "python",
   "nbconvert_exporter": "python",
   "pygments_lexer": "ipython3",
   "version": "3.8.3"
  }
 },
 "nbformat": 4,
 "nbformat_minor": 4
}
