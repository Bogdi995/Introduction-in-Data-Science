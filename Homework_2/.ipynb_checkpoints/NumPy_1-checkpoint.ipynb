{
 "cells": [
  {
   "cell_type": "code",
   "execution_count": 12,
   "metadata": {},
   "outputs": [
    {
     "name": "stdout",
     "output_type": "stream",
     "text": [
      "[ 1  8 -7]\n",
      "[[39 48 57]]\n"
     ]
    }
   ],
   "source": [
    "import numpy as np\n",
    "\n",
    "def diff1_vector(array: list) -> list:\n",
    "    \"\"\"\n",
    "    Functie care determina diferenta de ordinul intai intre elementele unui vector\n",
    "    :param number: vectorul\n",
    "    :returns: diferenta\n",
    "    \"\"\"\n",
    "    return np.diff(array)\n",
    "\n",
    "def check_axis(axis: int) -> bool:\n",
    "    \"\"\"\n",
    "    Functie care determina daca coordonata axei este corecta\n",
    "    :param number: coordonata axei\n",
    "    :returns: True daca este corecta, False altfel\n",
    "    \"\"\"\n",
    "    return True if axis == 1 or axis == 0 else False\n",
    "\n",
    "def diff1_mat(matrix: list, my_axis: int) -> list:\n",
    "    \"\"\"\n",
    "    Functie care determina diferenta de ordinul intai intre elementele unei matrici, pe linii sau pe coloane\n",
    "    :param number: matricea si coordonata axei\n",
    "    :returns: diferenta\n",
    "    \"\"\"\n",
    "    if(check_axis(my_axis) == True):\n",
    "        return np.diff(matrix, axis=my_axis)\n",
    "\n",
    "    \n",
    "a = np.array([1, 2, 10, 3])\n",
    "b  = np.array([[1, 2, 3], [40, 50, 60]])\n",
    "print(diff1_vector(a))\n",
    "print(diff1_mat(b, 0))"
   ]
  },
  {
   "cell_type": "code",
   "execution_count": null,
   "metadata": {},
   "outputs": [],
   "source": []
  }
 ],
 "metadata": {
  "kernelspec": {
   "display_name": "Python 3",
   "language": "python",
   "name": "python3"
  },
  "language_info": {
   "codemirror_mode": {
    "name": "ipython",
    "version": 3
   },
   "file_extension": ".py",
   "mimetype": "text/x-python",
   "name": "python",
   "nbconvert_exporter": "python",
   "pygments_lexer": "ipython3",
   "version": "3.8.3"
  }
 },
 "nbformat": 4,
 "nbformat_minor": 4
}
