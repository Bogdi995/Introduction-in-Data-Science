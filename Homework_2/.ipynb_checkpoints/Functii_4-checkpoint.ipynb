{
 "cells": [
  {
   "cell_type": "code",
   "execution_count": 21,
   "metadata": {},
   "outputs": [
    {
     "name": "stdout",
     "output_type": "stream",
     "text": [
      "Positive number needed!\n",
      "Number 15 was reached after 0 iterations\n",
      "Number 15 was reached after 2 iterations\n"
     ]
    }
   ],
   "source": [
    "def check_number(number: int) -> bool:\n",
    "    \"\"\"\n",
    "    Functie care determina daca un numar este pozitiv sau nu\n",
    "    :param number: retine numarul\n",
    "    :returns: True daca e pozitiv si False altfel\n",
    "    \"\"\"\n",
    "    return (number >= 0)\n",
    "\n",
    "def get_divisors(number: int) -> list:\n",
    "    \"\"\"\n",
    "    Functie care determina divizorii unui numar\n",
    "    :param number: retine numarul\n",
    "    :returns: lista divizorilor numarului\n",
    "    \"\"\"\n",
    "    return [index for index in range(1, number + 1) if number % index == 0]\n",
    "\n",
    "def sum_divisors_digits(number: int) -> int:\n",
    "    \"\"\"\n",
    "    Functie care determina divizorii unui numar\n",
    "    :param number: retine numarul\n",
    "    :returns: suma divizorilor numarului\n",
    "    \"\"\"\n",
    "    divisors: list = get_divisors(number)\n",
    "    return sum(list(map(lambda ele: sum(int(sub) for sub in str(ele)), divisors)))\n",
    "    \n",
    "def black_hole(number: int):\n",
    "    \"\"\"\n",
    "    Functie care afiseaza dupa cate iteratii se ajunge la numarul 15, daca se ajunge\n",
    "    :param number: retine numarul initial\n",
    "    \"\"\"\n",
    "    if(check_number(number) == False):\n",
    "        print('Positive number needed!')\n",
    "        return\n",
    "    div_sum: int = number\n",
    "    iteration: int = 0\n",
    "    while iteration < 1000 and div_sum != 15:\n",
    "        div_sum = sum_divisors_digits(div_sum)\n",
    "        iteration += 1\n",
    "    if div_sum == 15:\n",
    "        print(f'Number 15 was reached after {iteration} iterations')\n",
    "    else:\n",
    "        print('After 1000 iterations, the divisor'f's sum of the initial number is: {div}')\n",
    "        \n",
    "        \n",
    "black_hole(-41)\n",
    "black_hole(15)\n",
    "black_hole(21)"
   ]
  },
  {
   "cell_type": "code",
   "execution_count": null,
   "metadata": {},
   "outputs": [],
   "source": []
  }
 ],
 "metadata": {
  "kernelspec": {
   "display_name": "Python 3",
   "language": "python",
   "name": "python3"
  },
  "language_info": {
   "codemirror_mode": {
    "name": "ipython",
    "version": 3
   },
   "file_extension": ".py",
   "mimetype": "text/x-python",
   "name": "python",
   "nbconvert_exporter": "python",
   "pygments_lexer": "ipython3",
   "version": "3.8.3"
  }
 },
 "nbformat": 4,
 "nbformat_minor": 4
}
